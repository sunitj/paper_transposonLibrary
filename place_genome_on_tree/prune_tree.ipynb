{
 "cells": [
  {
   "cell_type": "code",
   "execution_count": 1,
   "metadata": {},
   "outputs": [],
   "source": [
    "from cloudpathlib import CloudPath, AnyPath\n",
    "import treeViz as tv\n",
    "import pandas as pd\n"
   ]
  },
  {
   "cell_type": "code",
   "execution_count": 2,
   "metadata": {},
   "outputs": [],
   "source": [
    "output_dir = AnyPath(\"../data/generated/prune_tree/\")\n",
    "output_dir.mkdir(parents=True, exist_ok=True)\n",
    "\n",
    "formatted_names_file = AnyPath(\"../data/imported/display_names.csv\")\n",
    "\n",
    "processed_genomes = AnyPath(\n",
    "    \"/Users/sunitjain/Github/HuangLab/TransposonLibrary_Voodgt_Tripathi_etal/data/generated/process_genomes\"\n",
    ")\n",
    "gtdb_tk_s3_basepath = CloudPath(\n",
    "    \"s3://genomics-workflow-core/Results/BinQC/TransposonLibrary/20210331/04_GTDBtk/gtdbtk-results/full_tree_manually_generated/\"\n",
    ")\n",
    "gtdb_tk_s3_summary_file = (\n",
    "    gtdb_tk_s3_basepath / \"gtdb.TransposonLibrary_20210331.bac120.summary.tsv\"\n",
    ")\n",
    "gtdb_tk_s3_tree_file = (\n",
    "    gtdb_tk_s3_basepath / \"gtdb.TransposonLibrary_20210331.bac120.classify.tree\"\n",
    ")\n",
    "\n",
    "summary_file = processed_genomes / gtdb_tk_s3_summary_file.name\n",
    "tree_file = processed_genomes / gtdb_tk_s3_tree_file.name\n"
   ]
  },
  {
   "cell_type": "code",
   "execution_count": 3,
   "metadata": {},
   "outputs": [
    {
     "data": {
      "text/plain": [
       "PosixPath('/Users/sunitjain/Github/HuangLab/TransposonLibrary_Voodgt_Tripathi_etal/data/generated/process_genomes/gtdb.TransposonLibrary_20210331.bac120.classify.tree')"
      ]
     },
     "execution_count": 3,
     "metadata": {},
     "output_type": "execute_result"
    }
   ],
   "source": [
    "# download file to processed_genomes\n",
    "gtdb_tk_s3_summary_file.download_to(summary_file)\n",
    "gtdb_tk_s3_tree_file.download_to(tree_file)\n"
   ]
  },
  {
   "cell_type": "code",
   "execution_count": 4,
   "metadata": {},
   "outputs": [],
   "source": [
    "summary_prefix = output_dir / \"TransposonLibrary_20210331\"\n",
    "summary_prefix = summary_prefix.as_posix()\n",
    "summary_file = summary_file.as_posix()\n",
    "tree_file = tree_file.as_posix()\n",
    "formatted_names_file = formatted_names_file.as_posix()\n"
   ]
  },
  {
   "cell_type": "code",
   "execution_count": 5,
   "metadata": {},
   "outputs": [],
   "source": [
    "genomes, color_dict, common_ancestor = tv.parse_summary_file(\n",
    "    summary_file, out_prefix=summary_prefix, color=True, taxa_rank=\"phylum\"\n",
    ")\n"
   ]
  },
  {
   "cell_type": "code",
   "execution_count": 6,
   "metadata": {},
   "outputs": [],
   "source": [
    "formatted_name_df = pd.read_csv(\n",
    "    formatted_names_file,\n",
    "    header=0,\n",
    "    usecols=[\"node_name\", \"display_name\"],\n",
    ")\n",
    "formatted_name_dict = dict(\n",
    "    zip(formatted_name_df.node_name, formatted_name_df.display_name)\n",
    ")\n"
   ]
  },
  {
   "attachments": {},
   "cell_type": "markdown",
   "metadata": {},
   "source": [
    "### Circular tree w/ Phylum color background"
   ]
  },
  {
   "cell_type": "code",
   "execution_count": 7,
   "metadata": {},
   "outputs": [],
   "source": [
    "tree_prefix = output_dir / \"TransposonLibrary_20210331.circular_w_bgcolor\"\n",
    "tv.generate_tree(\n",
    "    tree_file,\n",
    "    genomes,\n",
    "    out_prefix=tree_prefix,\n",
    "    circular=True,\n",
    "    color_dict=color_dict,\n",
    "    common_ancestor=common_ancestor,\n",
    "    formatted_name_dict=formatted_name_dict,\n",
    ")"
   ]
  },
  {
   "attachments": {},
   "cell_type": "markdown",
   "metadata": {},
   "source": [
    "### Rectangular tree w/ Phylum color background"
   ]
  },
  {
   "cell_type": "code",
   "execution_count": 8,
   "metadata": {},
   "outputs": [],
   "source": [
    "tree_prefix = output_dir / \"TransposonLibrary_20210331.rect_w_bgcolor\"\n",
    "tv.generate_tree(\n",
    "    tree_file,\n",
    "    genomes,\n",
    "    out_prefix=tree_prefix,\n",
    "    circular=False,\n",
    "    color_dict=color_dict,\n",
    "    common_ancestor=common_ancestor,\n",
    "    formatted_name_dict=formatted_name_dict,\n",
    ")"
   ]
  },
  {
   "attachments": {},
   "cell_type": "markdown",
   "metadata": {},
   "source": [
    "### Rectangular tree w/o color"
   ]
  },
  {
   "cell_type": "code",
   "execution_count": 9,
   "metadata": {},
   "outputs": [],
   "source": [
    "tree_prefix = output_dir / \"TransposonLibrary_20210331.rect_no_color\"\n",
    "tv.generate_tree(\n",
    "    tree_file,\n",
    "    genomes,\n",
    "    out_prefix=tree_prefix,\n",
    "    circular=False,\n",
    "    color_dict=None,\n",
    "    common_ancestor=None,\n",
    "    formatted_name_dict=formatted_name_dict,\n",
    ")"
   ]
  }
 ],
 "metadata": {
  "kernelspec": {
   "display_name": "trees",
   "language": "python",
   "name": "python3"
  },
  "language_info": {
   "codemirror_mode": {
    "name": "ipython",
    "version": 3
   },
   "file_extension": ".py",
   "mimetype": "text/x-python",
   "name": "python",
   "nbconvert_exporter": "python",
   "pygments_lexer": "ipython3",
   "version": "3.11.0"
  },
  "orig_nbformat": 4
 },
 "nbformat": 4,
 "nbformat_minor": 2
}
